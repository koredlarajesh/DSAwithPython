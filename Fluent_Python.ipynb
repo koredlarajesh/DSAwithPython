{
  "nbformat": 4,
  "nbformat_minor": 0,
  "metadata": {
    "colab": {
      "provenance": [],
      "authorship_tag": "ABX9TyPgGeR6plui9HFcvDlSH3GU",
      "include_colab_link": true
    },
    "kernelspec": {
      "name": "python3",
      "display_name": "Python 3"
    },
    "language_info": {
      "name": "python"
    }
  },
  "cells": [
    {
      "cell_type": "markdown",
      "metadata": {
        "id": "view-in-github",
        "colab_type": "text"
      },
      "source": [
        "<a href=\"https://colab.research.google.com/github/koredlarajesh/DSAwithPython/blob/main/Fluent_Python.ipynb\" target=\"_parent\"><img src=\"https://colab.research.google.com/assets/colab-badge.svg\" alt=\"Open In Colab\"/></a>"
      ]
    },
    {
      "cell_type": "code",
      "execution_count": 9,
      "metadata": {
        "id": "4_aEWxDVEX7r"
      },
      "outputs": [],
      "source": [
        "import collections\n",
        "card=collections.namedtuple(\"card\",[\"rank\",\"suit\"])\n",
        "\n",
        "class FrenchDesk:\n",
        "  ranks=[str(i) for i in range(2,11)] + [\"j\",\"q\",\"k\",\"A\"]\n",
        "  suites=\"spades diamond clubs hearts\".split()\n",
        "\n",
        "  def __init__(self):\n",
        "    self._cards=[card(rank,suit) for suit in self.suites for rank in self.ranks]\n",
        "  def __len__(self):\n",
        "    return len(self._cards)\n",
        "  def __getitem__(self,position):\n",
        "    return self._cards[position]\n"
      ]
    },
    {
      "cell_type": "code",
      "source": [
        "deck=FrenchDesk()\n",
        "len(deck)"
      ],
      "metadata": {
        "colab": {
          "base_uri": "https://localhost:8080/"
        },
        "id": "XDk4IqhkFR-j",
        "outputId": "2c6f8e27-2f66-4fa5-e1f6-51cb8c99a610"
      },
      "execution_count": 10,
      "outputs": [
        {
          "output_type": "execute_result",
          "data": {
            "text/plain": [
              "52"
            ]
          },
          "metadata": {},
          "execution_count": 10
        }
      ]
    },
    {
      "cell_type": "code",
      "source": [],
      "metadata": {
        "id": "84aCRsEMJw1y"
      },
      "execution_count": null,
      "outputs": []
    }
  ]
}