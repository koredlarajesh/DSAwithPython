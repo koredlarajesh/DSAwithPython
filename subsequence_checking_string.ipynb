{
  "nbformat": 4,
  "nbformat_minor": 0,
  "metadata": {
    "colab": {
      "provenance": [],
      "authorship_tag": "ABX9TyPHfeFcBaVYyTAJkhttTOTR",
      "include_colab_link": true
    },
    "kernelspec": {
      "name": "python3",
      "display_name": "Python 3"
    },
    "language_info": {
      "name": "python"
    }
  },
  "cells": [
    {
      "cell_type": "markdown",
      "metadata": {
        "id": "view-in-github",
        "colab_type": "text"
      },
      "source": [
        "<a href=\"https://colab.research.google.com/github/koredlarajesh/DSAwithPython/blob/main/subsequence_checking_string.ipynb\" target=\"_parent\"><img src=\"https://colab.research.google.com/assets/colab-badge.svg\" alt=\"Open In Colab\"/></a>"
      ]
    },
    {
      "cell_type": "code",
      "source": [
        "def subsequence_check(a,b):\n",
        "  i=0\n",
        "  j=0\n",
        "  while i<len(a) and j<len(b):\n",
        "   # print(\"i1,i2\",i,j)\n",
        "    if a[i]==b[j]:\n",
        "      i=i+1\n",
        "      j=j+1\n",
        "    else:\n",
        "      i=i+1\n",
        "  print(\"i,j\",i,j)\n",
        "  if j==(len(b)):\n",
        "    return True\n",
        "  else:\n",
        "    return \"it is not Subsequence of a\""
      ],
      "metadata": {
        "id": "h9jOOD2Isv-m"
      },
      "execution_count": null,
      "outputs": []
    },
    {
      "cell_type": "code",
      "execution_count": null,
      "metadata": {
        "colab": {
          "base_uri": "https://localhost:8080/",
          "height": 53
        },
        "id": "USE7ZkV3scOx",
        "outputId": "26defe90-463c-4ce6-bcf2-a4dd2cd86f96"
      },
      "outputs": [
        {
          "output_type": "stream",
          "name": "stdout",
          "text": [
            "i,j 13 5\n"
          ]
        },
        {
          "output_type": "execute_result",
          "data": {
            "text/plain": [
              "'it is not Subsequence of a'"
            ],
            "application/vnd.google.colaboratory.intrinsic+json": {
              "type": "string"
            }
          },
          "metadata": {},
          "execution_count": 20
        }
      ],
      "source": [
        "a=\"rajeshkoredla\"\n",
        "b=\"rhkdal\"\n",
        "subsequence_check(a,b)"
      ]
    },
    {
      "cell_type": "code",
      "source": [],
      "metadata": {
        "id": "qI41lVKSsotR"
      },
      "execution_count": null,
      "outputs": []
    }
  ]
}