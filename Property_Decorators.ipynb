{
  "nbformat": 4,
  "nbformat_minor": 0,
  "metadata": {
    "colab": {
      "provenance": [],
      "authorship_tag": "ABX9TyPVpvE6effAbWEF0h5hMLgk",
      "include_colab_link": true
    },
    "kernelspec": {
      "name": "python3",
      "display_name": "Python 3"
    },
    "language_info": {
      "name": "python"
    }
  },
  "cells": [
    {
      "cell_type": "markdown",
      "metadata": {
        "id": "view-in-github",
        "colab_type": "text"
      },
      "source": [
        "<a href=\"https://colab.research.google.com/github/koredlarajesh/DSAwithPython/blob/main/Property_Decorators.ipynb\" target=\"_parent\"><img src=\"https://colab.research.google.com/assets/colab-badge.svg\" alt=\"Open In Colab\"/></a>"
      ]
    },
    {
      "cell_type": "markdown",
      "source": [
        "The property decorator in Python is a built-in decorator that allows you to define a method as a property of a class. It's often used to create read-only attributes or to customize the behavior of attribute access. The property decorator consists of three methods: getter, setter, and deleter.\n",
        "\n",
        "Here's a basic explanation and example of using the property decorator:\n",
        "\n",
        "Basic Usage:\n",
        "Getter:\n",
        "\n",
        "The getter method is responsible for getting the attribute value.\n",
        "Setter:\n",
        "\n",
        "The setter method is responsible for setting the attribute value.\n",
        "Deleter:\n",
        "\n",
        "The deleter method is responsible for deleting the attribute."
      ],
      "metadata": {
        "id": "1cOJN_IPwEQR"
      }
    },
    {
      "cell_type": "code",
      "source": [
        "class idrbt:\n",
        "  def __init__(self,course_price ,course_name):\n",
        "    self.__course_price=course_price\n",
        "    self.course_name=course_name\n"
      ],
      "metadata": {
        "id": "Xkt7eDqxpQYc"
      },
      "execution_count": 11,
      "outputs": []
    },
    {
      "cell_type": "code",
      "source": [
        "obi_idrbt=idrbt(30000,\"data science\")"
      ],
      "metadata": {
        "id": "rKvNMP8mqk_8"
      },
      "execution_count": 12,
      "outputs": []
    },
    {
      "cell_type": "code",
      "source": [
        "obi_idrbt.course_name"
      ],
      "metadata": {
        "colab": {
          "base_uri": "https://localhost:8080/",
          "height": 35
        },
        "id": "Gp92uPruqq1D",
        "outputId": "3376be6f-f43b-4980-8bcd-cd4962c2067d"
      },
      "execution_count": 14,
      "outputs": [
        {
          "output_type": "execute_result",
          "data": {
            "text/plain": [
              "'data science'"
            ],
            "application/vnd.google.colaboratory.intrinsic+json": {
              "type": "string"
            }
          },
          "metadata": {},
          "execution_count": 14
        }
      ]
    },
    {
      "cell_type": "code",
      "source": [
        "obi_idrbt._idrbt__course_price"
      ],
      "metadata": {
        "colab": {
          "base_uri": "https://localhost:8080/"
        },
        "id": "l0uZy4QBqzYV",
        "outputId": "572ffb6c-745e-443b-c079-cd5098dc27ec"
      },
      "execution_count": 21,
      "outputs": [
        {
          "output_type": "execute_result",
          "data": {
            "text/plain": [
              "30000"
            ]
          },
          "metadata": {},
          "execution_count": 21
        }
      ]
    },
    {
      "cell_type": "code",
      "source": [
        "class idrbt1:\n",
        "  def __init__(self,course_price ,course_name):\n",
        "    self.__course_price=course_price\n",
        "    self.course_name=course_name\n",
        "  @property\n",
        "  def course_price_access(self):\n",
        "    return self.__course_price"
      ],
      "metadata": {
        "id": "jf46sXvAq-J6"
      },
      "execution_count": 23,
      "outputs": []
    },
    {
      "cell_type": "code",
      "source": [
        "obj_idrbt = idrbt1(345000,\"DSA with python\")"
      ],
      "metadata": {
        "id": "Gi4W2mh2r0_V"
      },
      "execution_count": 24,
      "outputs": []
    },
    {
      "cell_type": "code",
      "source": [
        "obj_idrbt.course_name"
      ],
      "metadata": {
        "colab": {
          "base_uri": "https://localhost:8080/",
          "height": 35
        },
        "id": "z6NN1wdQr-Qb",
        "outputId": "a171b016-d337-4279-dc9f-9ae8fc1bc9c7"
      },
      "execution_count": 25,
      "outputs": [
        {
          "output_type": "execute_result",
          "data": {
            "text/plain": [
              "'DSA with python'"
            ],
            "application/vnd.google.colaboratory.intrinsic+json": {
              "type": "string"
            }
          },
          "metadata": {},
          "execution_count": 25
        }
      ]
    },
    {
      "cell_type": "code",
      "source": [
        "obj_idrbt.course_price_access"
      ],
      "metadata": {
        "colab": {
          "base_uri": "https://localhost:8080/"
        },
        "id": "rF5ZXyezsA5M",
        "outputId": "22c8095e-1b94-430a-c1e0-e5ce93c8cd94"
      },
      "execution_count": 27,
      "outputs": [
        {
          "output_type": "execute_result",
          "data": {
            "text/plain": [
              "345000"
            ]
          },
          "metadata": {},
          "execution_count": 27
        }
      ]
    },
    {
      "cell_type": "code",
      "source": [
        "class idrbt1:\n",
        "  def __init__(self,course_price ,course_name):\n",
        "    self.__course_price=course_price\n",
        "    self.course_name=course_name\n",
        "  @property\n",
        "  def course_price_access(self):\n",
        "    return self.__course_price\n",
        "\n",
        "  @course_price_access.setter\n",
        "  def course_price_set(self,price):\n",
        "    if price <= 3500:\n",
        "      pass\n",
        "    else:\n",
        "      self.__course_price=price\n",
        "\n",
        ""
      ],
      "metadata": {
        "id": "rrVYxnv7sE3a"
      },
      "execution_count": 29,
      "outputs": []
    },
    {
      "cell_type": "code",
      "source": [
        "obj_idrbt1=idrbt1(3500,\"dsa with python\")"
      ],
      "metadata": {
        "id": "TeTW0zOytICy"
      },
      "execution_count": 31,
      "outputs": []
    },
    {
      "cell_type": "code",
      "source": [
        "obj_idrbt1.course_price_access"
      ],
      "metadata": {
        "colab": {
          "base_uri": "https://localhost:8080/"
        },
        "id": "L9kYkCextUbY",
        "outputId": "6385d078-f03f-4c07-9c33-049718b3f0f9"
      },
      "execution_count": 32,
      "outputs": [
        {
          "output_type": "execute_result",
          "data": {
            "text/plain": [
              "3500"
            ]
          },
          "metadata": {},
          "execution_count": 32
        }
      ]
    },
    {
      "cell_type": "code",
      "source": [
        "obj_idrbt1.course_price_set = 2300"
      ],
      "metadata": {
        "id": "aY6uZc6ftdWM"
      },
      "execution_count": 34,
      "outputs": []
    },
    {
      "cell_type": "code",
      "source": [
        "obj_idrbt1.course_price_access"
      ],
      "metadata": {
        "colab": {
          "base_uri": "https://localhost:8080/"
        },
        "id": "UEoLucAitgDc",
        "outputId": "6bfe582c-8a63-48ac-aeeb-8ca3a4f622af"
      },
      "execution_count": 35,
      "outputs": [
        {
          "output_type": "execute_result",
          "data": {
            "text/plain": [
              "3500"
            ]
          },
          "metadata": {},
          "execution_count": 35
        }
      ]
    },
    {
      "cell_type": "code",
      "source": [
        "obj_idrbt1.course_price_set = 4300"
      ],
      "metadata": {
        "id": "M6N2DZMbtlEq"
      },
      "execution_count": 36,
      "outputs": []
    },
    {
      "cell_type": "code",
      "source": [
        "obj_idrbt1.course_price_access"
      ],
      "metadata": {
        "colab": {
          "base_uri": "https://localhost:8080/"
        },
        "id": "ZaJco6WFtnoz",
        "outputId": "686bafb5-7e0e-47ae-8d1d-27fb7ebe98e7"
      },
      "execution_count": 37,
      "outputs": [
        {
          "output_type": "execute_result",
          "data": {
            "text/plain": [
              "4300"
            ]
          },
          "metadata": {},
          "execution_count": 37
        }
      ]
    },
    {
      "cell_type": "code",
      "source": [
        "class idrbt2:\n",
        "  def __init__(self,course_price ,course_name):\n",
        "    self.__course_price=course_price\n",
        "    self.course_name=course_name\n",
        "  @property\n",
        "  def course_price_access(self):\n",
        "    return self.__course_price\n",
        "\n",
        "  @course_price_access.setter\n",
        "  def course_price_set(self,price):\n",
        "    if price <= 3500:\n",
        "      pass\n",
        "    else:\n",
        "      self.__course_price=price\n",
        "  @course_price_access.deleter\n",
        "  def course_price_delete(self):\n",
        "    del self.__course_price"
      ],
      "metadata": {
        "id": "jTP_l9rpto40"
      },
      "execution_count": 39,
      "outputs": []
    },
    {
      "cell_type": "code",
      "source": [
        "obj_idrbt2 = idrbt2(5000,\"dsa with java\")"
      ],
      "metadata": {
        "id": "M3OWDxcGuPwp"
      },
      "execution_count": 41,
      "outputs": []
    },
    {
      "cell_type": "code",
      "source": [
        "obj_idrbt2.course_name"
      ],
      "metadata": {
        "colab": {
          "base_uri": "https://localhost:8080/",
          "height": 35
        },
        "id": "_yGu0vA3ufJM",
        "outputId": "e5a5d21f-ffd2-487a-d3a8-b71421e0cf22"
      },
      "execution_count": 42,
      "outputs": [
        {
          "output_type": "execute_result",
          "data": {
            "text/plain": [
              "'dsa with java'"
            ],
            "application/vnd.google.colaboratory.intrinsic+json": {
              "type": "string"
            }
          },
          "metadata": {},
          "execution_count": 42
        }
      ]
    },
    {
      "cell_type": "code",
      "source": [
        "obj_idrbt2.course_price_access"
      ],
      "metadata": {
        "colab": {
          "base_uri": "https://localhost:8080/"
        },
        "id": "DM7ViNjvuphX",
        "outputId": "8294cf18-7eac-43e7-f393-412449e39395"
      },
      "execution_count": 43,
      "outputs": [
        {
          "output_type": "execute_result",
          "data": {
            "text/plain": [
              "5000"
            ]
          },
          "metadata": {},
          "execution_count": 43
        }
      ]
    },
    {
      "cell_type": "code",
      "source": [
        "obj_idrbt2.course_price_set = 2300"
      ],
      "metadata": {
        "id": "dC2Lqs4purYy"
      },
      "execution_count": 47,
      "outputs": []
    },
    {
      "cell_type": "code",
      "source": [
        "obj_idrbt2.course_price_access"
      ],
      "metadata": {
        "colab": {
          "base_uri": "https://localhost:8080/"
        },
        "id": "Iso6HB0KuwTt",
        "outputId": "7912059d-8533-46f1-c871-3ed48a7b7547"
      },
      "execution_count": 48,
      "outputs": [
        {
          "output_type": "execute_result",
          "data": {
            "text/plain": [
              "5000"
            ]
          },
          "metadata": {},
          "execution_count": 48
        }
      ]
    },
    {
      "cell_type": "code",
      "source": [
        "obj_idrbt2.course_price_set = 7000"
      ],
      "metadata": {
        "id": "u642NbiBvAJn"
      },
      "execution_count": 49,
      "outputs": []
    },
    {
      "cell_type": "code",
      "source": [
        "obj_idrbt2.course_price_access"
      ],
      "metadata": {
        "colab": {
          "base_uri": "https://localhost:8080/"
        },
        "id": "b4E9FfzuvI6B",
        "outputId": "5c726f19-4fdd-4536-811a-1f2f06605f60"
      },
      "execution_count": 50,
      "outputs": [
        {
          "output_type": "execute_result",
          "data": {
            "text/plain": [
              "7000"
            ]
          },
          "metadata": {},
          "execution_count": 50
        }
      ]
    },
    {
      "cell_type": "code",
      "source": [
        "obj_idrbt2.course_price_delete"
      ],
      "metadata": {
        "colab": {
          "base_uri": "https://localhost:8080/"
        },
        "id": "dfD96MB_vKSn",
        "outputId": "571c45d7-2887-4fa3-d050-92a0ea0e24db"
      },
      "execution_count": 51,
      "outputs": [
        {
          "output_type": "execute_result",
          "data": {
            "text/plain": [
              "7000"
            ]
          },
          "metadata": {},
          "execution_count": 51
        }
      ]
    },
    {
      "cell_type": "code",
      "source": [
        "obj_idrbt2.course_price_access"
      ],
      "metadata": {
        "colab": {
          "base_uri": "https://localhost:8080/"
        },
        "id": "Ypg0wrFcvOQu",
        "outputId": "2bdf42c7-eea7-458e-9786-9ab4c2c04752"
      },
      "execution_count": 52,
      "outputs": [
        {
          "output_type": "execute_result",
          "data": {
            "text/plain": [
              "7000"
            ]
          },
          "metadata": {},
          "execution_count": 52
        }
      ]
    },
    {
      "cell_type": "code",
      "source": [
        "del obj_idrbt2.course_price_delete"
      ],
      "metadata": {
        "id": "vbx3i83MvQPo"
      },
      "execution_count": 53,
      "outputs": []
    },
    {
      "cell_type": "code",
      "source": [
        "obj_idrbt2.course_price_access"
      ],
      "metadata": {
        "colab": {
          "base_uri": "https://localhost:8080/",
          "height": 297
        },
        "id": "NCZQXwOFvv7w",
        "outputId": "c19644e9-b351-4f4a-9006-535c6aff3f14"
      },
      "execution_count": 54,
      "outputs": [
        {
          "output_type": "error",
          "ename": "AttributeError",
          "evalue": "'idrbt2' object has no attribute '_idrbt2__course_price'",
          "traceback": [
            "\u001b[0;31m---------------------------------------------------------------------------\u001b[0m",
            "\u001b[0;31mAttributeError\u001b[0m                            Traceback (most recent call last)",
            "\u001b[0;32m<ipython-input-54-9e07e83a0d05>\u001b[0m in \u001b[0;36m<cell line: 1>\u001b[0;34m()\u001b[0m\n\u001b[0;32m----> 1\u001b[0;31m \u001b[0mobj_idrbt2\u001b[0m\u001b[0;34m.\u001b[0m\u001b[0mcourse_price_access\u001b[0m\u001b[0;34m\u001b[0m\u001b[0;34m\u001b[0m\u001b[0m\n\u001b[0m",
            "\u001b[0;32m<ipython-input-39-cb7f19dea84e>\u001b[0m in \u001b[0;36mcourse_price_access\u001b[0;34m(self)\u001b[0m\n\u001b[1;32m      5\u001b[0m   \u001b[0;34m@\u001b[0m\u001b[0mproperty\u001b[0m\u001b[0;34m\u001b[0m\u001b[0;34m\u001b[0m\u001b[0m\n\u001b[1;32m      6\u001b[0m   \u001b[0;32mdef\u001b[0m \u001b[0mcourse_price_access\u001b[0m\u001b[0;34m(\u001b[0m\u001b[0mself\u001b[0m\u001b[0;34m)\u001b[0m\u001b[0;34m:\u001b[0m\u001b[0;34m\u001b[0m\u001b[0;34m\u001b[0m\u001b[0m\n\u001b[0;32m----> 7\u001b[0;31m     \u001b[0;32mreturn\u001b[0m \u001b[0mself\u001b[0m\u001b[0;34m.\u001b[0m\u001b[0m__course_price\u001b[0m\u001b[0;34m\u001b[0m\u001b[0;34m\u001b[0m\u001b[0m\n\u001b[0m\u001b[1;32m      8\u001b[0m \u001b[0;34m\u001b[0m\u001b[0m\n\u001b[1;32m      9\u001b[0m   \u001b[0;34m@\u001b[0m\u001b[0mcourse_price_access\u001b[0m\u001b[0;34m.\u001b[0m\u001b[0msetter\u001b[0m\u001b[0;34m\u001b[0m\u001b[0;34m\u001b[0m\u001b[0m\n",
            "\u001b[0;31mAttributeError\u001b[0m: 'idrbt2' object has no attribute '_idrbt2__course_price'"
          ]
        }
      ]
    },
    {
      "cell_type": "code",
      "source": [],
      "metadata": {
        "id": "UFSjf07Ivxst"
      },
      "execution_count": null,
      "outputs": []
    }
  ]
}