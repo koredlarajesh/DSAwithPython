{
  "nbformat": 4,
  "nbformat_minor": 0,
  "metadata": {
    "colab": {
      "provenance": [],
      "authorship_tag": "ABX9TyNS5QGTptuvDggmfrlVOYSt",
      "include_colab_link": true
    },
    "kernelspec": {
      "name": "python3",
      "display_name": "Python 3"
    },
    "language_info": {
      "name": "python"
    }
  },
  "cells": [
    {
      "cell_type": "markdown",
      "metadata": {
        "id": "view-in-github",
        "colab_type": "text"
      },
      "source": [
        "<a href=\"https://colab.research.google.com/github/koredlarajesh/DSAwithPython/blob/main/Inheritance.ipynb\" target=\"_parent\"><img src=\"https://colab.research.google.com/assets/colab-badge.svg\" alt=\"Open In Colab\"/></a>"
      ]
    },
    {
      "cell_type": "code",
      "execution_count": 1,
      "metadata": {
        "id": "52aImdo9j2z0"
      },
      "outputs": [],
      "source": [
        "class parent:\n",
        "  def test_parent(self):\n",
        "    print(\"this is my parent class\")"
      ]
    },
    {
      "cell_type": "code",
      "source": [
        "class child(parent):\n",
        "  pass"
      ],
      "metadata": {
        "id": "3KHxidu-kFxI"
      },
      "execution_count": 2,
      "outputs": []
    },
    {
      "cell_type": "code",
      "source": [
        "child_obj=child()"
      ],
      "metadata": {
        "id": "Md7BxL-KkJUK"
      },
      "execution_count": 3,
      "outputs": []
    },
    {
      "cell_type": "markdown",
      "source": [
        "this is not part of child class still its invoke / access this is property of inheritance"
      ],
      "metadata": {
        "id": "l_MX58Hfke6u"
      }
    },
    {
      "cell_type": "code",
      "source": [
        "child_obj.test_parent()"
      ],
      "metadata": {
        "colab": {
          "base_uri": "https://localhost:8080/"
        },
        "id": "n7780eNxkNtX",
        "outputId": "77a582db-1fd5-4cca-8ca8-a029d267872a"
      },
      "execution_count": 5,
      "outputs": [
        {
          "output_type": "stream",
          "name": "stdout",
          "text": [
            "this is my parent class\n"
          ]
        }
      ]
    },
    {
      "cell_type": "markdown",
      "source": [
        "# Multi Level Inheritance"
      ],
      "metadata": {
        "id": "z3tgLf4Hn60G"
      }
    },
    {
      "cell_type": "code",
      "source": [
        "class class1:\n",
        "  def test_class1(self):\n",
        "    print(\"this is my class 1\")\n",
        "class class2(class1):\n",
        "  def test_class2(self):\n",
        "    print(\"this is my class 2\")\n",
        "class class3(class2):\n",
        "  def test_class3(self):\n",
        "    print(\"this is my class 3\")"
      ],
      "metadata": {
        "id": "yJ8WYCrvkQyS"
      },
      "execution_count": 6,
      "outputs": []
    },
    {
      "cell_type": "code",
      "source": [
        "class_obj3=class3()"
      ],
      "metadata": {
        "id": "Te3ZGWd0mQCB"
      },
      "execution_count": 7,
      "outputs": []
    },
    {
      "cell_type": "code",
      "source": [
        "class_obj3.test_class1()"
      ],
      "metadata": {
        "colab": {
          "base_uri": "https://localhost:8080/"
        },
        "id": "8w5WFKlbmc35",
        "outputId": "9ff1939c-9022-43cf-8f82-9297c2736227"
      },
      "execution_count": 9,
      "outputs": [
        {
          "output_type": "stream",
          "name": "stdout",
          "text": [
            "this is my class 1\n"
          ]
        }
      ]
    },
    {
      "cell_type": "code",
      "source": [
        "class_obj3.test_class2()"
      ],
      "metadata": {
        "colab": {
          "base_uri": "https://localhost:8080/"
        },
        "id": "XMGuyrzHmf1p",
        "outputId": "272fc454-ec7b-4569-e2dc-b8a071df2bdd"
      },
      "execution_count": 10,
      "outputs": [
        {
          "output_type": "stream",
          "name": "stdout",
          "text": [
            "this is my class 2\n"
          ]
        }
      ]
    },
    {
      "cell_type": "code",
      "source": [
        "class_obj3.test_class3()"
      ],
      "metadata": {
        "colab": {
          "base_uri": "https://localhost:8080/"
        },
        "id": "bQsf_3EpmjJZ",
        "outputId": "d9388728-3ec1-4ab1-acd3-6be69e0b5006"
      },
      "execution_count": 11,
      "outputs": [
        {
          "output_type": "stream",
          "name": "stdout",
          "text": [
            "this is my class 3\n"
          ]
        }
      ]
    },
    {
      "cell_type": "markdown",
      "source": [
        "# Multiple Inheritence"
      ],
      "metadata": {
        "id": "wnTXIcvmnk-Y"
      }
    },
    {
      "cell_type": "code",
      "source": [
        "class class1:\n",
        "  def test_class1(self):\n",
        "    print(\"this is my class 1\")"
      ],
      "metadata": {
        "id": "WP6sC99Eml7E"
      },
      "execution_count": 12,
      "outputs": []
    },
    {
      "cell_type": "code",
      "source": [
        "class class2:\n",
        "  def test_class2(self):\n",
        "    print(\"this is my class 2\")"
      ],
      "metadata": {
        "id": "OZK8d11VnWUJ"
      },
      "execution_count": 13,
      "outputs": []
    },
    {
      "cell_type": "code",
      "source": [
        "class class3(class1,class2):\n",
        "  pass"
      ],
      "metadata": {
        "id": "WE3slnR8neey"
      },
      "execution_count": 14,
      "outputs": []
    },
    {
      "cell_type": "markdown",
      "source": [
        "# u cant access here because no inheritance property here so"
      ],
      "metadata": {
        "id": "aexMfypgojQM"
      }
    },
    {
      "cell_type": "code",
      "source": [
        "multiple_inheritence=class2()\n",
        "multiple_inheritence.test_class1()"
      ],
      "metadata": {
        "colab": {
          "base_uri": "https://localhost:8080/",
          "height": 193
        },
        "id": "qswUjbRcoYaS",
        "outputId": "b29b282a-491a-4d96-8153-f595012a87e8"
      },
      "execution_count": 19,
      "outputs": [
        {
          "output_type": "error",
          "ename": "AttributeError",
          "evalue": "'class2' object has no attribute 'test_class1'",
          "traceback": [
            "\u001b[0;31m---------------------------------------------------------------------------\u001b[0m",
            "\u001b[0;31mAttributeError\u001b[0m                            Traceback (most recent call last)",
            "\u001b[0;32m<ipython-input-19-40d9a31c3217>\u001b[0m in \u001b[0;36m<cell line: 2>\u001b[0;34m()\u001b[0m\n\u001b[1;32m      1\u001b[0m \u001b[0mmultiple_inheritence\u001b[0m\u001b[0;34m=\u001b[0m\u001b[0mclass2\u001b[0m\u001b[0;34m(\u001b[0m\u001b[0;34m)\u001b[0m\u001b[0;34m\u001b[0m\u001b[0;34m\u001b[0m\u001b[0m\n\u001b[0;32m----> 2\u001b[0;31m \u001b[0mmultiple_inheritence\u001b[0m\u001b[0;34m.\u001b[0m\u001b[0mtest_class1\u001b[0m\u001b[0;34m(\u001b[0m\u001b[0;34m)\u001b[0m\u001b[0;34m\u001b[0m\u001b[0;34m\u001b[0m\u001b[0m\n\u001b[0m",
            "\u001b[0;31mAttributeError\u001b[0m: 'class2' object has no attribute 'test_class1'"
          ]
        }
      ]
    },
    {
      "cell_type": "code",
      "source": [
        "multiple_inheritence=class3()"
      ],
      "metadata": {
        "id": "OLsKV2lRnjO3"
      },
      "execution_count": 20,
      "outputs": []
    },
    {
      "cell_type": "code",
      "source": [
        "multiple_inheritence.test_class1()"
      ],
      "metadata": {
        "colab": {
          "base_uri": "https://localhost:8080/"
        },
        "id": "hp5OXYG3oMLy",
        "outputId": "792eaa09-008c-4265-8e99-19fd37905a3c"
      },
      "execution_count": 21,
      "outputs": [
        {
          "output_type": "stream",
          "name": "stdout",
          "text": [
            "this is my class 1\n"
          ]
        }
      ]
    },
    {
      "cell_type": "code",
      "source": [
        "multiple_inheritence.test_class2()"
      ],
      "metadata": {
        "colab": {
          "base_uri": "https://localhost:8080/"
        },
        "id": "jorxLA64oOtn",
        "outputId": "44e7d482-6f2b-4877-9aee-eaebc6388ddb"
      },
      "execution_count": 22,
      "outputs": [
        {
          "output_type": "stream",
          "name": "stdout",
          "text": [
            "this is my class 2\n"
          ]
        }
      ]
    },
    {
      "cell_type": "code",
      "source": [],
      "metadata": {
        "id": "R404XvzHoRrd"
      },
      "execution_count": null,
      "outputs": []
    }
  ]
}