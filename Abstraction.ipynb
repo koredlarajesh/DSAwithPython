{
  "nbformat": 4,
  "nbformat_minor": 0,
  "metadata": {
    "colab": {
      "provenance": [],
      "authorship_tag": "ABX9TyPpBsV5jkKnD0wPrTDXmJVr",
      "include_colab_link": true
    },
    "kernelspec": {
      "name": "python3",
      "display_name": "Python 3"
    },
    "language_info": {
      "name": "python"
    }
  },
  "cells": [
    {
      "cell_type": "markdown",
      "metadata": {
        "id": "view-in-github",
        "colab_type": "text"
      },
      "source": [
        "<a href=\"https://colab.research.google.com/github/koredlarajesh/DSAwithPython/blob/main/Abstraction.ipynb\" target=\"_parent\"><img src=\"https://colab.research.google.com/assets/colab-badge.svg\" alt=\"Open In Colab\"/></a>"
      ]
    },
    {
      "cell_type": "code",
      "execution_count": 3,
      "metadata": {
        "id": "csxhwkGlEdSW"
      },
      "outputs": [],
      "source": [
        "import abc\n",
        "class idrbt:\n",
        "  @abc.abstractmethod\n",
        "  def emp_details(self):\n",
        "    pass\n",
        "  @abc.abstractmethod\n",
        "  def staff_details(self):\n",
        "    pass\n",
        "  @abc.abstractmethod\n",
        "  def con_staff_details(self):\n",
        "    pass"
      ]
    },
    {
      "cell_type": "code",
      "source": [
        "class datascience(idrbt):\n",
        "  def emp_details(self):\n",
        "    return \"it will give emp details who are enrolled of data science certifations\"\n",
        "  def staff_details(self):\n",
        "    return \"it will give details of staff details who are enrolled ds certifaties\""
      ],
      "metadata": {
        "id": "4drKztybFFN_"
      },
      "execution_count": 5,
      "outputs": []
    },
    {
      "cell_type": "code",
      "source": [
        "class web_dev(idrbt):\n",
        "  def emp_details(self):\n",
        "    return \"web dev details of emp\"\n",
        "  def con_staff_details(self):\n",
        "    return \"con_staff_details\""
      ],
      "metadata": {
        "id": "NbcUjGZDGDg5"
      },
      "execution_count": 7,
      "outputs": []
    },
    {
      "cell_type": "code",
      "source": [
        "ds=datascience()"
      ],
      "metadata": {
        "id": "S0fqVJ9aGluJ"
      },
      "execution_count": 8,
      "outputs": []
    },
    {
      "cell_type": "code",
      "source": [
        "ds.staff_details()"
      ],
      "metadata": {
        "colab": {
          "base_uri": "https://localhost:8080/",
          "height": 35
        },
        "id": "PQhJhrcuG_ar",
        "outputId": "e266cd32-dfca-4f5d-ee14-948b6e80ef9d"
      },
      "execution_count": 10,
      "outputs": [
        {
          "output_type": "execute_result",
          "data": {
            "text/plain": [
              "'it will give details of staff details who are enrolled ds certifaties'"
            ],
            "application/vnd.google.colaboratory.intrinsic+json": {
              "type": "string"
            }
          },
          "metadata": {},
          "execution_count": 10
        }
      ]
    },
    {
      "cell_type": "code",
      "source": [
        "ds.emp_details()"
      ],
      "metadata": {
        "colab": {
          "base_uri": "https://localhost:8080/",
          "height": 35
        },
        "id": "O-0UBzVGHB9R",
        "outputId": "b9003842-c00b-4ffa-80cf-f1f77a699e32"
      },
      "execution_count": 12,
      "outputs": [
        {
          "output_type": "execute_result",
          "data": {
            "text/plain": [
              "'it will give emp details who are enrolled of data science certifations'"
            ],
            "application/vnd.google.colaboratory.intrinsic+json": {
              "type": "string"
            }
          },
          "metadata": {},
          "execution_count": 12
        }
      ]
    },
    {
      "cell_type": "code",
      "source": [
        "webdv=web_dev()"
      ],
      "metadata": {
        "id": "wfakJJCYHHZT"
      },
      "execution_count": 13,
      "outputs": []
    },
    {
      "cell_type": "code",
      "source": [
        "webdv.con_staff_details()"
      ],
      "metadata": {
        "colab": {
          "base_uri": "https://localhost:8080/",
          "height": 35
        },
        "id": "BBdfnsV8HVpd",
        "outputId": "2a2e1376-c5ce-417c-a68f-82cb2e02b859"
      },
      "execution_count": 14,
      "outputs": [
        {
          "output_type": "execute_result",
          "data": {
            "text/plain": [
              "'con_staff_details'"
            ],
            "application/vnd.google.colaboratory.intrinsic+json": {
              "type": "string"
            }
          },
          "metadata": {},
          "execution_count": 14
        }
      ]
    },
    {
      "cell_type": "code",
      "source": [
        "webdv.staff_details()"
      ],
      "metadata": {
        "id": "Gyy1oB1rHYUE"
      },
      "execution_count": 15,
      "outputs": []
    },
    {
      "cell_type": "code",
      "source": [
        "webdv.emp_details()"
      ],
      "metadata": {
        "colab": {
          "base_uri": "https://localhost:8080/",
          "height": 35
        },
        "id": "OA_9sgP6HbSg",
        "outputId": "c538dcb5-956c-4b6d-edea-b655740d829b"
      },
      "execution_count": 16,
      "outputs": [
        {
          "output_type": "execute_result",
          "data": {
            "text/plain": [
              "'web dev details of emp'"
            ],
            "application/vnd.google.colaboratory.intrinsic+json": {
              "type": "string"
            }
          },
          "metadata": {},
          "execution_count": 16
        }
      ]
    },
    {
      "cell_type": "code",
      "source": [],
      "metadata": {
        "id": "yMynDQ9dHhzU"
      },
      "execution_count": null,
      "outputs": []
    }
  ]
}