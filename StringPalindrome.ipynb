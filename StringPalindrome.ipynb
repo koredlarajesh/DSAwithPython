{
  "nbformat": 4,
  "nbformat_minor": 0,
  "metadata": {
    "colab": {
      "provenance": [],
      "authorship_tag": "ABX9TyPPCdB/qlXK3sCOS+ACB+su"
    },
    "kernelspec": {
      "name": "python3",
      "display_name": "Python 3"
    },
    "language_info": {
      "name": "python"
    }
  },
  "cells": [
    {
      "cell_type": "code",
      "execution_count": 1,
      "metadata": {
        "id": "jUEBHglTfgTa"
      },
      "outputs": [],
      "source": [
        "def stringpalindrome(a):\n",
        "  h=len(a)-1\n",
        "  l=0\n",
        "  while l<h:\n",
        "    if a[l]!=a[h]:\n",
        "      print(\"Not palindrome\")\n",
        "      break\n",
        "    l=l+1\n",
        "    h=h-1\n",
        "  else:\n",
        "    print(\"yes\")"
      ]
    },
    {
      "cell_type": "code",
      "source": [
        "stringpalindrome(\"madam\")"
      ],
      "metadata": {
        "colab": {
          "base_uri": "https://localhost:8080/"
        },
        "id": "PW044bpQgEDe",
        "outputId": "bf597bbf-04e5-4da8-eb14-0a694b6e156a"
      },
      "execution_count": 2,
      "outputs": [
        {
          "output_type": "stream",
          "name": "stdout",
          "text": [
            "yes\n"
          ]
        }
      ]
    },
    {
      "cell_type": "code",
      "source": [
        "stringpalindrome(\"madammadam\")"
      ],
      "metadata": {
        "colab": {
          "base_uri": "https://localhost:8080/"
        },
        "id": "J486JmUegJeG",
        "outputId": "101dc9a9-714d-4184-a1a8-31df48f90d34"
      },
      "execution_count": 3,
      "outputs": [
        {
          "output_type": "stream",
          "name": "stdout",
          "text": [
            "yes\n"
          ]
        }
      ]
    },
    {
      "cell_type": "code",
      "source": [
        "stringpalindrome(\"madamr\")"
      ],
      "metadata": {
        "colab": {
          "base_uri": "https://localhost:8080/"
        },
        "id": "CI0xg62DgNEY",
        "outputId": "0275dd82-6be5-4aa8-c9f2-5ef81e1dbf26"
      },
      "execution_count": 4,
      "outputs": [
        {
          "output_type": "stream",
          "name": "stdout",
          "text": [
            "Not palindrome\n"
          ]
        }
      ]
    },
    {
      "cell_type": "code",
      "source": [],
      "metadata": {
        "id": "7J3aODx2hu3s"
      },
      "execution_count": null,
      "outputs": []
    }
  ]
}