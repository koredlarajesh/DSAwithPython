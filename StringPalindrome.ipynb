{
  "nbformat": 4,
  "nbformat_minor": 0,
  "metadata": {
    "colab": {
      "provenance": []
    },
    "kernelspec": {
      "name": "python3",
      "display_name": "Python 3"
    },
    "language_info": {
      "name": "python"
    }
  },
  "cells": [
    {
      "cell_type": "code",
      "execution_count": null,
      "metadata": {
        "id": "jUEBHglTfgTa"
      },
      "outputs": [],
      "source": [
        "def stringpalindrome(a):\n",
        "  h=len(a)-1\n",
        "  l=0\n",
        "  while l<h:\n",
        "    if a[l]!=a[h]:\n",
        "      print(\"Not palindrome\")\n",
        "      break\n",
        "    l=l+1\n",
        "    h=h-1\n",
        "  else:\n",
        "    print(\"yes\")"
      ]
    },
    {
      "cell_type": "code",
      "source": [
        "stringpalindrome(\"madam\")"
      ],
      "metadata": {
        "colab": {
          "base_uri": "https://localhost:8080/"
        },
        "id": "PW044bpQgEDe",
        "outputId": "17fc3591-e0fc-4f1b-a79f-a1a6e6bdafd7"
      },
      "execution_count": null,
      "outputs": [
        {
          "output_type": "stream",
          "name": "stdout",
          "text": [
            "yes\n"
          ]
        }
      ]
    },
    {
      "cell_type": "code",
      "source": [
        "stringpalindrome(\"madammadam\")"
      ],
      "metadata": {
        "colab": {
          "base_uri": "https://localhost:8080/"
        },
        "id": "J486JmUegJeG",
        "outputId": "53200e74-f6b1-42c2-f93d-faed758dc453"
      },
      "execution_count": null,
      "outputs": [
        {
          "output_type": "stream",
          "name": "stdout",
          "text": [
            "yes\n"
          ]
        }
      ]
    },
    {
      "cell_type": "code",
      "source": [
        "stringpalindrome(\"madamr\")"
      ],
      "metadata": {
        "colab": {
          "base_uri": "https://localhost:8080/"
        },
        "id": "CI0xg62DgNEY",
        "outputId": "7a9bd3cb-6115-4e9a-db68-dac91edbc22b"
      },
      "execution_count": null,
      "outputs": [
        {
          "output_type": "stream",
          "name": "stdout",
          "text": [
            "Not palindrome\n"
          ]
        }
      ]
    },
    {
      "cell_type": "code",
      "source": [],
      "metadata": {
        "id": "f1uXXA8egQM4"
      },
      "execution_count": null,
      "outputs": []
    }
  ]
}