{
  "nbformat": 4,
  "nbformat_minor": 0,
  "metadata": {
    "colab": {
      "provenance": [],
      "authorship_tag": "ABX9TyNy8z1fxAxlHlh+LCIjRGrN",
      "include_colab_link": true
    },
    "kernelspec": {
      "name": "python3",
      "display_name": "Python 3"
    },
    "language_info": {
      "name": "python"
    }
  },
  "cells": [
    {
      "cell_type": "markdown",
      "metadata": {
        "id": "view-in-github",
        "colab_type": "text"
      },
      "source": [
        "<a href=\"https://colab.research.google.com/github/koredlarajesh/DSAwithPython/blob/main/oop's.ipynb\" target=\"_parent\"><img src=\"https://colab.research.google.com/assets/colab-badge.svg\" alt=\"Open In Colab\"/></a>"
      ]
    },
    {
      "cell_type": "code",
      "execution_count": null,
      "metadata": {
        "colab": {
          "base_uri": "https://localhost:8080/"
        },
        "id": "rZnTUKfpNbOB",
        "outputId": "931fb7a1-1b02-400c-84cc-78dbc9e052eb"
      },
      "outputs": [
        {
          "output_type": "stream",
          "name": "stdout",
          "text": [
            "9\n"
          ]
        }
      ],
      "source": [
        "def test(a,b):\n",
        "    return a+b\n",
        "print(test(4,5))  # test behave here as addition"
      ]
    },
    {
      "cell_type": "code",
      "source": [
        "print(test(\"raj\",\" koredla\"))  # here behave as a string concatination operation\n",
        "print(test([1,2,3,4,4,5,5],[12,12,12,12,12,12,12])) # list append operation"
      ],
      "metadata": {
        "colab": {
          "base_uri": "https://localhost:8080/"
        },
        "id": "3WT1TKEZNoik",
        "outputId": "0d361a22-61dc-446a-d4f6-f46b1d4ae1c6"
      },
      "execution_count": null,
      "outputs": [
        {
          "output_type": "stream",
          "name": "stdout",
          "text": [
            "raj koredla\n",
            "[1, 2, 3, 4, 4, 5, 5, 12, 12, 12, 12, 12, 12, 12]\n"
          ]
        }
      ]
    },
    {
      "cell_type": "code",
      "source": [
        "class datascience:\n",
        "  def syllabus(self):\n",
        "    print(\"this is my method for data science syllabus\")"
      ],
      "metadata": {
        "id": "gZBWq6KBNy0D"
      },
      "execution_count": null,
      "outputs": []
    },
    {
      "cell_type": "code",
      "source": [
        "class web_dev:\n",
        "  def syllabus(self):\n",
        "    print(\"this is my method for web dev syllabus\")"
      ],
      "metadata": {
        "id": "1ugVhc0jN1Ua"
      },
      "execution_count": null,
      "outputs": []
    },
    {
      "cell_type": "code",
      "source": [
        "obj_data_science=datascience()"
      ],
      "metadata": {
        "id": "WpfBASwVN39b"
      },
      "execution_count": null,
      "outputs": []
    },
    {
      "cell_type": "code",
      "source": [
        "obj_web_dev=web_dev()"
      ],
      "metadata": {
        "id": "A2Sz3W_HOB9z"
      },
      "execution_count": null,
      "outputs": []
    },
    {
      "cell_type": "code",
      "source": [
        "class_obj=[obj_data_science,obj_web_dev]"
      ],
      "metadata": {
        "id": "EkYloGDuOD0i"
      },
      "execution_count": null,
      "outputs": []
    },
    {
      "cell_type": "code",
      "source": [
        "# behaviour of i will change based on object , able to access methods of diffrent diffrent classes\n",
        "# one single entity behavious will change as per object which i am going to pass inside my function\n",
        "def class_parser(class_obj):\n",
        "  for i in class_obj:\n",
        "    i.syllabus()"
      ],
      "metadata": {
        "id": "biHPqwnQOFir"
      },
      "execution_count": null,
      "outputs": []
    },
    {
      "cell_type": "code",
      "source": [
        "class_parser(class_obj)"
      ],
      "metadata": {
        "colab": {
          "base_uri": "https://localhost:8080/"
        },
        "id": "NupICdJSOKN7",
        "outputId": "8c45f7f8-b404-4e76-b17c-64253ea28a0d"
      },
      "execution_count": null,
      "outputs": [
        {
          "output_type": "stream",
          "name": "stdout",
          "text": [
            "this is my method for data science syllabus\n",
            "this is my method for web dev syllabus\n"
          ]
        }
      ]
    },
    {
      "cell_type": "code",
      "source": [
        "# abstraction"
      ],
      "metadata": {
        "id": "GW5YZhqJOMqC"
      },
      "execution_count": null,
      "outputs": []
    }
  ]
}