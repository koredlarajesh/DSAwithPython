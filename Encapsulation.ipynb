{
  "nbformat": 4,
  "nbformat_minor": 0,
  "metadata": {
    "colab": {
      "provenance": [],
      "authorship_tag": "ABX9TyOVFDfBNSEPx+EWwRbniYHW",
      "include_colab_link": true
    },
    "kernelspec": {
      "name": "python3",
      "display_name": "Python 3"
    },
    "language_info": {
      "name": "python"
    }
  },
  "cells": [
    {
      "cell_type": "markdown",
      "metadata": {
        "id": "view-in-github",
        "colab_type": "text"
      },
      "source": [
        "<a href=\"https://colab.research.google.com/github/koredlarajesh/DSAwithPython/blob/main/Encapsulation.ipynb\" target=\"_parent\"><img src=\"https://colab.research.google.com/assets/colab-badge.svg\" alt=\"Open In Colab\"/></a>"
      ]
    },
    {
      "cell_type": "markdown",
      "source": [
        "# Encapsulation is idea , it's any kind of direct access of data / modification of data in oops concept is not good, it is security breach.so we have to build something user cant modify or any other persion without accesing"
      ],
      "metadata": {
        "id": "s8NFJdxBXUE_"
      }
    },
    {
      "cell_type": "code",
      "execution_count": 10,
      "metadata": {
        "id": "WFsLU7EhWM82"
      },
      "outputs": [],
      "source": [
        "class test:\n",
        "  def __init__(self,a,b):\n",
        "    self.a=a\n",
        "    self.b=b"
      ]
    },
    {
      "cell_type": "code",
      "source": [
        "t=test(2,3)"
      ],
      "metadata": {
        "id": "Oswvaek6WkE9"
      },
      "execution_count": 3,
      "outputs": []
    },
    {
      "cell_type": "code",
      "source": [
        "t.a"
      ],
      "metadata": {
        "colab": {
          "base_uri": "https://localhost:8080/"
        },
        "id": "wtNEkRCQWnK0",
        "outputId": "a9779fe2-9db3-4ba5-cd07-5aecb9c1704f"
      },
      "execution_count": 5,
      "outputs": [
        {
          "output_type": "execute_result",
          "data": {
            "text/plain": [
              "2"
            ]
          },
          "metadata": {},
          "execution_count": 5
        }
      ]
    },
    {
      "cell_type": "code",
      "source": [
        "t.b"
      ],
      "metadata": {
        "colab": {
          "base_uri": "https://localhost:8080/"
        },
        "id": "fNhRGSZqWrRQ",
        "outputId": "117e213b-c446-4f58-fa31-031e123d228b"
      },
      "execution_count": 6,
      "outputs": [
        {
          "output_type": "execute_result",
          "data": {
            "text/plain": [
              "3"
            ]
          },
          "metadata": {},
          "execution_count": 6
        }
      ]
    },
    {
      "cell_type": "code",
      "source": [
        "t.a=23"
      ],
      "metadata": {
        "id": "jDGjj8eaWuPS"
      },
      "execution_count": 7,
      "outputs": []
    },
    {
      "cell_type": "code",
      "source": [
        "t.a # this is not good , here u can directly access or modify so any one can modify in real time i will be use problem\n",
        "# so encapsulation came into picture"
      ],
      "metadata": {
        "colab": {
          "base_uri": "https://localhost:8080/"
        },
        "id": "hwLA7wPoWxPV",
        "outputId": "3919e85f-e16c-4bcd-f6a8-a018333ce996"
      },
      "execution_count": 11,
      "outputs": [
        {
          "output_type": "execute_result",
          "data": {
            "text/plain": [
              "23"
            ]
          },
          "metadata": {},
          "execution_count": 11
        }
      ]
    },
    {
      "cell_type": "code",
      "source": [
        "t.b"
      ],
      "metadata": {
        "colab": {
          "base_uri": "https://localhost:8080/"
        },
        "id": "1WT8CmR1WydT",
        "outputId": "65278187-cb1f-4eea-ac40-be29fc914b2e"
      },
      "execution_count": 12,
      "outputs": [
        {
          "output_type": "execute_result",
          "data": {
            "text/plain": [
              "3"
            ]
          },
          "metadata": {},
          "execution_count": 12
        }
      ]
    },
    {
      "cell_type": "code",
      "source": [
        "class car:\n",
        "  def __init__(self,year,make,model,speed):\n",
        "    self.__year=year\n",
        "    self.__make=make\n",
        "    self.__model=model\n",
        "    self.__speed=0"
      ],
      "metadata": {
        "id": "v7X3-qxSWzoK"
      },
      "execution_count": 13,
      "outputs": []
    },
    {
      "cell_type": "code",
      "source": [
        "obj_car=car(1991,\"toyoto\",\"innova\",12)"
      ],
      "metadata": {
        "id": "OkCsxcuZYZhk"
      },
      "execution_count": 15,
      "outputs": []
    },
    {
      "cell_type": "markdown",
      "source": [
        "u cant access like this"
      ],
      "metadata": {
        "id": "wPm6_010c8Tr"
      }
    },
    {
      "cell_type": "code",
      "source": [
        "obj_car.__year"
      ],
      "metadata": {
        "colab": {
          "base_uri": "https://localhost:8080/",
          "height": 175
        },
        "id": "AImT54MLYbzD",
        "outputId": "4502fc02-7693-4bbb-f731-bdc7d433f75b"
      },
      "execution_count": 20,
      "outputs": [
        {
          "output_type": "error",
          "ename": "AttributeError",
          "evalue": "'car' object has no attribute '__year'",
          "traceback": [
            "\u001b[0;31m---------------------------------------------------------------------------\u001b[0m",
            "\u001b[0;31mAttributeError\u001b[0m                            Traceback (most recent call last)",
            "\u001b[0;32m<ipython-input-20-8266941e2182>\u001b[0m in \u001b[0;36m<cell line: 1>\u001b[0;34m()\u001b[0m\n\u001b[0;32m----> 1\u001b[0;31m \u001b[0mobj_car\u001b[0m\u001b[0;34m.\u001b[0m\u001b[0m__year\u001b[0m\u001b[0;34m\u001b[0m\u001b[0;34m\u001b[0m\u001b[0m\n\u001b[0m",
            "\u001b[0;31mAttributeError\u001b[0m: 'car' object has no attribute '__year'"
          ]
        }
      ]
    },
    {
      "cell_type": "markdown",
      "source": [
        "here also wrong , u cant access like this"
      ],
      "metadata": {
        "id": "3MlIjW4IdAea"
      }
    },
    {
      "cell_type": "code",
      "source": [
        "obj_car._.__year"
      ],
      "metadata": {
        "colab": {
          "base_uri": "https://localhost:8080/",
          "height": 175
        },
        "id": "gUhHa5LiYmwd",
        "outputId": "5c94b06c-e926-408b-a66e-489cbcb30cfc"
      },
      "execution_count": 21,
      "outputs": [
        {
          "output_type": "error",
          "ename": "AttributeError",
          "evalue": "'car' object has no attribute '_'",
          "traceback": [
            "\u001b[0;31m---------------------------------------------------------------------------\u001b[0m",
            "\u001b[0;31mAttributeError\u001b[0m                            Traceback (most recent call last)",
            "\u001b[0;32m<ipython-input-21-d7b0128454b1>\u001b[0m in \u001b[0;36m<cell line: 1>\u001b[0;34m()\u001b[0m\n\u001b[0;32m----> 1\u001b[0;31m \u001b[0mobj_car\u001b[0m\u001b[0;34m.\u001b[0m\u001b[0m_\u001b[0m\u001b[0;34m.\u001b[0m\u001b[0m__year\u001b[0m\u001b[0;34m\u001b[0m\u001b[0;34m\u001b[0m\u001b[0m\n\u001b[0m",
            "\u001b[0;31mAttributeError\u001b[0m: 'car' object has no attribute '_'"
          ]
        }
      ]
    },
    {
      "cell_type": "markdown",
      "source": [
        "for accessing u have to call class also"
      ],
      "metadata": {
        "id": "IaTxqgBXdD_x"
      }
    },
    {
      "cell_type": "code",
      "source": [
        "obj_car._car__speed"
      ],
      "metadata": {
        "colab": {
          "base_uri": "https://localhost:8080/"
        },
        "id": "JJY6_wcoZ30B",
        "outputId": "348cad70-6058-4c91-c77d-f66916181530"
      },
      "execution_count": 22,
      "outputs": [
        {
          "output_type": "execute_result",
          "data": {
            "text/plain": [
              "0"
            ]
          },
          "metadata": {},
          "execution_count": 22
        }
      ]
    },
    {
      "cell_type": "code",
      "source": [
        "obj_car._car__year"
      ],
      "metadata": {
        "colab": {
          "base_uri": "https://localhost:8080/"
        },
        "id": "KCwg-ELnaD-l",
        "outputId": "ce492de7-8e47-4120-b708-b68cd767f5c7"
      },
      "execution_count": 23,
      "outputs": [
        {
          "output_type": "execute_result",
          "data": {
            "text/plain": [
              "1991"
            ]
          },
          "metadata": {},
          "execution_count": 23
        }
      ]
    },
    {
      "cell_type": "code",
      "source": [
        "obj_car._car__model"
      ],
      "metadata": {
        "colab": {
          "base_uri": "https://localhost:8080/",
          "height": 35
        },
        "id": "A2WJ0i5-aJRq",
        "outputId": "c0812be7-923a-48a2-9d41-ada695ebb574"
      },
      "execution_count": 25,
      "outputs": [
        {
          "output_type": "execute_result",
          "data": {
            "text/plain": [
              "'innova'"
            ],
            "application/vnd.google.colaboratory.intrinsic+json": {
              "type": "string"
            }
          },
          "metadata": {},
          "execution_count": 25
        }
      ]
    },
    {
      "cell_type": "code",
      "source": [
        "obj_car._car__make"
      ],
      "metadata": {
        "colab": {
          "base_uri": "https://localhost:8080/",
          "height": 35
        },
        "id": "sxNDmIWvaMCm",
        "outputId": "606b51f7-8154-4292-ddfa-996625041a7f"
      },
      "execution_count": 26,
      "outputs": [
        {
          "output_type": "execute_result",
          "data": {
            "text/plain": [
              "'toyoto'"
            ],
            "application/vnd.google.colaboratory.intrinsic+json": {
              "type": "string"
            }
          },
          "metadata": {},
          "execution_count": 26
        }
      ]
    },
    {
      "cell_type": "code",
      "source": [
        "obj_car._car__year=2022"
      ],
      "metadata": {
        "id": "wGwfeCeeaVR8"
      },
      "execution_count": 27,
      "outputs": []
    },
    {
      "cell_type": "code",
      "source": [
        "obj_car._car__year"
      ],
      "metadata": {
        "colab": {
          "base_uri": "https://localhost:8080/"
        },
        "id": "Ywsf8elqbPPj",
        "outputId": "4ca94ea8-329a-4890-a42f-e0150c532c13"
      },
      "execution_count": 28,
      "outputs": [
        {
          "output_type": "execute_result",
          "data": {
            "text/plain": [
              "2022"
            ]
          },
          "metadata": {},
          "execution_count": 28
        }
      ]
    },
    {
      "cell_type": "code",
      "source": [
        "class car:\n",
        "  def __init__(self,year,make,model,speed):\n",
        "    self.__year=year\n",
        "    self.__make=make\n",
        "    self.__model=model\n",
        "    self.__speed=0\n",
        "\n",
        "  def set_car_speed(self,speed):\n",
        "    self.__speed= 0 if speed <0 else speed\n",
        "\n",
        "  def get_speed(self):\n",
        "    return self.__speed"
      ],
      "metadata": {
        "id": "860_YIsDbR2F"
      },
      "execution_count": 43,
      "outputs": []
    },
    {
      "cell_type": "code",
      "source": [
        "obj_car=car(2024,\"kia\",\"santro\",0)"
      ],
      "metadata": {
        "id": "y8lkiupZb4fZ"
      },
      "execution_count": 44,
      "outputs": []
    },
    {
      "cell_type": "code",
      "source": [
        "obj_car.speed"
      ],
      "metadata": {
        "colab": {
          "base_uri": "https://localhost:8080/",
          "height": 175
        },
        "id": "sPy2WzJKcEu_",
        "outputId": "cc9e655f-b0d4-41b8-dc89-4236c7576817"
      },
      "execution_count": 45,
      "outputs": [
        {
          "output_type": "error",
          "ename": "AttributeError",
          "evalue": "'car' object has no attribute 'speed'",
          "traceback": [
            "\u001b[0;31m---------------------------------------------------------------------------\u001b[0m",
            "\u001b[0;31mAttributeError\u001b[0m                            Traceback (most recent call last)",
            "\u001b[0;32m<ipython-input-45-fa15f10fdba9>\u001b[0m in \u001b[0;36m<cell line: 1>\u001b[0;34m()\u001b[0m\n\u001b[0;32m----> 1\u001b[0;31m \u001b[0mobj_car\u001b[0m\u001b[0;34m.\u001b[0m\u001b[0mspeed\u001b[0m\u001b[0;34m\u001b[0m\u001b[0;34m\u001b[0m\u001b[0m\n\u001b[0m",
            "\u001b[0;31mAttributeError\u001b[0m: 'car' object has no attribute 'speed'"
          ]
        }
      ]
    },
    {
      "cell_type": "code",
      "source": [
        "obj_car.__speed"
      ],
      "metadata": {
        "colab": {
          "base_uri": "https://localhost:8080/",
          "height": 175
        },
        "id": "Moys2fZecez2",
        "outputId": "140bd2ff-b05f-4a78-9507-be2ec15d8978"
      },
      "execution_count": 46,
      "outputs": [
        {
          "output_type": "error",
          "ename": "AttributeError",
          "evalue": "'car' object has no attribute '__speed'",
          "traceback": [
            "\u001b[0;31m---------------------------------------------------------------------------\u001b[0m",
            "\u001b[0;31mAttributeError\u001b[0m                            Traceback (most recent call last)",
            "\u001b[0;32m<ipython-input-46-caed8c89d6c4>\u001b[0m in \u001b[0;36m<cell line: 1>\u001b[0;34m()\u001b[0m\n\u001b[0;32m----> 1\u001b[0;31m \u001b[0mobj_car\u001b[0m\u001b[0;34m.\u001b[0m\u001b[0m__speed\u001b[0m\u001b[0;34m\u001b[0m\u001b[0;34m\u001b[0m\u001b[0m\n\u001b[0m",
            "\u001b[0;31mAttributeError\u001b[0m: 'car' object has no attribute '__speed'"
          ]
        }
      ]
    },
    {
      "cell_type": "code",
      "source": [
        "obj_car._car__speed"
      ],
      "metadata": {
        "colab": {
          "base_uri": "https://localhost:8080/"
        },
        "id": "-QzuAsSTciff",
        "outputId": "0d7336de-2b17-4917-b06e-470d7d9b6f63"
      },
      "execution_count": 47,
      "outputs": [
        {
          "output_type": "execute_result",
          "data": {
            "text/plain": [
              "0"
            ]
          },
          "metadata": {},
          "execution_count": 47
        }
      ]
    },
    {
      "cell_type": "code",
      "source": [
        "obj_car.set_car_speed(-200)"
      ],
      "metadata": {
        "id": "aMMtCg3ecmXL"
      },
      "execution_count": 48,
      "outputs": []
    },
    {
      "cell_type": "code",
      "source": [
        "obj_car.set_car_speed(200)"
      ],
      "metadata": {
        "id": "0w9oGDwdctF6"
      },
      "execution_count": 49,
      "outputs": []
    },
    {
      "cell_type": "code",
      "source": [
        "obj_car._car__speed"
      ],
      "metadata": {
        "colab": {
          "base_uri": "https://localhost:8080/"
        },
        "id": "WdCB2bUWcvGV",
        "outputId": "14779a7d-4b74-41b4-abb8-3c909b4b720a"
      },
      "execution_count": 50,
      "outputs": [
        {
          "output_type": "execute_result",
          "data": {
            "text/plain": [
              "200"
            ]
          },
          "metadata": {},
          "execution_count": 50
        }
      ]
    },
    {
      "cell_type": "code",
      "source": [
        "obj_car.get_speed()"
      ],
      "metadata": {
        "colab": {
          "base_uri": "https://localhost:8080/"
        },
        "id": "ffLk7eLQc189",
        "outputId": "242e8db2-723c-4bf1-83c3-1714e906c886"
      },
      "execution_count": 51,
      "outputs": [
        {
          "output_type": "execute_result",
          "data": {
            "text/plain": [
              "200"
            ]
          },
          "metadata": {},
          "execution_count": 51
        }
      ]
    },
    {
      "cell_type": "code",
      "source": [
        "class bank_account:\n",
        "  def __init__(self,balance):\n",
        "    self.__balance=balance\n",
        "  def deposit(self,amount):\n",
        "    self.__balance=self.__balance+amount\n",
        "  def withdraw(self,amount):\n",
        "    if self.__balance >= amount:\n",
        "      self.__balance=self.__balance-amount\n",
        "      return True\n",
        "    else:\n",
        "      return False\n",
        "  def get_balance(self):\n",
        "    return self.__balance\n"
      ],
      "metadata": {
        "id": "oJa9jhzMdlCI"
      },
      "execution_count": 71,
      "outputs": []
    },
    {
      "cell_type": "code",
      "source": [
        "bank=bank_account(500000)"
      ],
      "metadata": {
        "id": "Tlii42U5f7LW"
      },
      "execution_count": 64,
      "outputs": []
    },
    {
      "cell_type": "markdown",
      "source": [
        "# here we can means admin can access but outside user cant access balance directly he can use get_balance which we created for accessing users there balance , so user directly cant access anything which we gave __ , only function can access , so here user can access only if he knows function only"
      ],
      "metadata": {
        "id": "7Y_rwZyvgk6W"
      }
    },
    {
      "cell_type": "code",
      "source": [
        "bank._bank_account__balance"
      ],
      "metadata": {
        "colab": {
          "base_uri": "https://localhost:8080/"
        },
        "id": "1BE5wr9EgB9t",
        "outputId": "2f937abc-241e-4134-831d-e21fc3a9237c"
      },
      "execution_count": 65,
      "outputs": [
        {
          "output_type": "execute_result",
          "data": {
            "text/plain": [
              "500000"
            ]
          },
          "metadata": {},
          "execution_count": 65
        }
      ]
    },
    {
      "cell_type": "code",
      "source": [
        "bank.get_balance()"
      ],
      "metadata": {
        "colab": {
          "base_uri": "https://localhost:8080/"
        },
        "id": "p9fcKCfigb3t",
        "outputId": "d2bcce47-3fe0-4442-9aa9-fd215f883498"
      },
      "execution_count": 66,
      "outputs": [
        {
          "output_type": "execute_result",
          "data": {
            "text/plain": [
              "500000"
            ]
          },
          "metadata": {},
          "execution_count": 66
        }
      ]
    },
    {
      "cell_type": "code",
      "source": [
        "bank.deposit(2000)"
      ],
      "metadata": {
        "id": "buYkZdk6ggdU"
      },
      "execution_count": 67,
      "outputs": []
    },
    {
      "cell_type": "code",
      "source": [
        "bank.get_balance()"
      ],
      "metadata": {
        "colab": {
          "base_uri": "https://localhost:8080/"
        },
        "id": "I0X1A90yhLcZ",
        "outputId": "6ebcd73b-80c4-4270-e046-b33c35ce3ea5"
      },
      "execution_count": 68,
      "outputs": [
        {
          "output_type": "execute_result",
          "data": {
            "text/plain": [
              "502000"
            ]
          },
          "metadata": {},
          "execution_count": 68
        }
      ]
    },
    {
      "cell_type": "code",
      "source": [
        "bank.withdraw(22222)"
      ],
      "metadata": {
        "colab": {
          "base_uri": "https://localhost:8080/"
        },
        "id": "KMN2qauohlci",
        "outputId": "6925a039-ce53-49dd-d227-84613369b5a4"
      },
      "execution_count": 74,
      "outputs": [
        {
          "output_type": "execute_result",
          "data": {
            "text/plain": [
              "True"
            ]
          },
          "metadata": {},
          "execution_count": 74
        }
      ]
    },
    {
      "cell_type": "code",
      "source": [
        "bank.get_balance()"
      ],
      "metadata": {
        "colab": {
          "base_uri": "https://localhost:8080/"
        },
        "id": "5QmH-PqGhr6Y",
        "outputId": "1c1d781c-680c-4894-d9a6-433296b85dd0"
      },
      "execution_count": 75,
      "outputs": [
        {
          "output_type": "execute_result",
          "data": {
            "text/plain": [
              "439778"
            ]
          },
          "metadata": {},
          "execution_count": 75
        }
      ]
    },
    {
      "cell_type": "code",
      "source": [],
      "metadata": {
        "id": "IA-HZrenhveH"
      },
      "execution_count": null,
      "outputs": []
    }
  ]
}